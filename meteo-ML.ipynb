{
 "cells": [
  {
   "attachments": {},
   "cell_type": "markdown",
   "metadata": {},
   "source": [
    "# Data\n",
    "\n",
    "## Scrap Data \n",
    "\n",
    "Collect weather data for years 2009-2022 for our precise location from World weather Online API in JSON format and save them in a file."
   ]
  },
  {
   "attachments": {},
   "cell_type": "markdown",
   "metadata": {},
   "source": [
    "Define Data scrapping parameters."
   ]
  },
  {
   "cell_type": "code",
   "execution_count": 61,
   "metadata": {},
   "outputs": [],
   "source": [
    "import os\n",
    "import json\n",
    "import requests\n",
    "from calendar import monthrange\n",
    "\n",
    "api_key = os.environ.get('WEATHER_API_KEY')\n",
    "location_coordinates = os.environ.get('WEATHER_APP_LOCATION')\n",
    "location_name = os.environ.get('WEATHER_APP_LOCATION_NAME')\n",
    "start_year = 2009\n",
    "end_year = 2022"
   ]
  },
  {
   "attachments": {},
   "cell_type": "markdown",
   "metadata": {},
   "source": [
    "Loop through GET API calls to database to get all necessary data.\n",
    "Save all .json files corresponding to each month in a 'weather_data' directory."
   ]
  },
  {
   "cell_type": "code",
   "execution_count": 63,
   "metadata": {},
   "outputs": [],
   "source": [
    "# Create the 'weather_data' directory if it does not already exist\n",
    "if not os.path.exists('weather_data'):\n",
    "    os.makedirs('weather_data')\n",
    "\n",
    "raw_data = 'weather_data'\n",
    "\n",
    "#     # Loop through all years and months and create a file for each month\n",
    "for year in range(start_year, end_year+1):\n",
    "    for month in range(1, 13):\n",
    "        # Get the start and end dates for the month\n",
    "        _, num_days = monthrange(year, month) \n",
    "        start_date = f'{year}-{month:02d}-01'\n",
    "        end_date = f'{year}-{month:02d}-{num_days:02d}'\n",
    "        \n",
    "        # Construct the URL and make the request\n",
    "        url = f'https://api.worldweatheronline.com/premium/v1/past-weather.ashx?key={api_key}&q={location_coordinates}&format=json&date={start_date}&enddate={end_date}'\n",
    "        response = requests.get(url)\n",
    "        data = response.json()\n",
    "        \n",
    "        # Get the filename and filepath for this month's data\n",
    "        filename = f'{location_name}_{year}-{month:02d}.json'\n",
    "        filepath = os.path.join('weather_data', filename)\n",
    "        \n",
    "        # Check if file exists and create it if it does not\n",
    "        if not os.path.exists(filepath):\n",
    "            with open(filepath, 'w') as f:\n",
    "                json.dump(data, f)\n",
    "        else:\n",
    "            print(f'File {filename} already exists.')\n"
   ]
  },
  {
   "attachments": {},
   "cell_type": "markdown",
   "metadata": {},
   "source": [
    "## Filter Data\n",
    "\n",
    "Filter all .json files for the data, time, temperature, humidity, pressure, and weather description keys and create new parsed .json files in a new directory called 'parsed_weather_data'."
   ]
  },
  {
   "cell_type": "code",
   "execution_count": 64,
   "metadata": {},
   "outputs": [],
   "source": [
    "\n",
    "# create the directory for the parsed weather data if it doesn't exist\n",
    "if not os.path.exists('parsed_weather_data'):\n",
    "    os.makedirs('parsed_weather_data')\n",
    "\n",
    "# loop through all the JSON files in the weather_data directory\n",
    "for filename in os.listdir('weather_data'):\n",
    "    if filename.endswith('.json'):\n",
    "        # extract the location and month from the filename\n",
    "        location_name = filename.split('_')[0]\n",
    "        month = filename.split('_')[1].split('.')[0]\n",
    "\n",
    "        # create a new dictionary to store the parsed data for this month\n",
    "        parsed_month_data = {}\n",
    "\n",
    "        # Open the file and load the JSON data\n",
    "        with open(f'weather_data/{filename}', 'r') as f:\n",
    "            file_contents = f.read()\n",
    "            parsed_data = json.loads(file_contents)\n",
    "\n",
    "        # loop through the hourly data for all the dates in the JSON file\n",
    "        for weather_data in parsed_data['data']['weather']:\n",
    "            # extract the date for this set of hourly data\n",
    "            date = weather_data['date']\n",
    "\n",
    "            # create a new list to store the parsed data for this day\n",
    "            parsed_day_data = []\n",
    "\n",
    "            # loop through the hourly data for this date\n",
    "            for hourly_data in weather_data['hourly']:\n",
    "                # extract the values we're interested in\n",
    "                tempC = hourly_data['tempC']\n",
    "                humidity = hourly_data['humidity']\n",
    "                pressure = hourly_data['pressure']\n",
    "                weatherCond = hourly_data['weatherDesc'][0]['value']\n",
    "                time = hourly_data['time']\n",
    "\n",
    "                # add the values to the parsed_day_data list\n",
    "                parsed_day_data.append({\n",
    "                    'time': time,\n",
    "                    'tempC': tempC,\n",
    "                    'humidity': humidity,\n",
    "                    'pressure': pressure,\n",
    "                    'weatherCond': weatherCond\n",
    "                })\n",
    "\n",
    "            # add the parsed day data to the parsed_month_data dictionary\n",
    "            parsed_month_data[date] = parsed_day_data\n",
    "\n",
    "        # write the parsed_month_data to a new JSON file\n",
    "        with open(f'parsed_weather_data/{location_name}_{month}_parsed.json', 'w') as f:\n",
    "            json.dump(parsed_month_data, f)\n"
   ]
  },
  {
   "attachments": {},
   "cell_type": "markdown",
   "metadata": {},
   "source": [
    "Combine all parsed .json files into a single .json file containing all data of interest."
   ]
  },
  {
   "cell_type": "code",
   "execution_count": 65,
   "metadata": {},
   "outputs": [],
   "source": [
    "# create the combined data dictionary\n",
    "combined_data = {}\n",
    "\n",
    "# loop over each file in the directory\n",
    "for filename in os.listdir('parsed_weather_data'):\n",
    "    if filename.endswith('.json'):\n",
    "        # load the contents of the file into a dictionary\n",
    "        with open(os.path.join('parsed_weather_data', filename)) as f:\n",
    "            parsed_data = json.load(f)\n",
    "        \n",
    "        # loop over each date in the parsed data dictionary\n",
    "        for date in parsed_data.keys():\n",
    "            # if the date doesn't exist in the combined data dictionary, add it with an empty list as its value\n",
    "            if date not in combined_data:\n",
    "                combined_data[date] = []\n",
    "            \n",
    "            # add the weather data to the combined_data dictionary\n",
    "            combined_data[date].extend(parsed_data[date])\n",
    "\n",
    "# save the combined data to a new file\n",
    "with open('combined_parsed_data.json', 'w') as f:\n",
    "    json.dump(combined_data, f)\n"
   ]
  },
  {
   "attachments": {},
   "cell_type": "markdown",
   "metadata": {},
   "source": [
    "Convert .json data into .csv data."
   ]
  },
  {
   "cell_type": "code",
   "execution_count": 66,
   "metadata": {},
   "outputs": [],
   "source": [
    "\n",
    "\n",
    "csv_data_file = 'weather_data.csv'\n",
    "\n",
    "# read the weather data from the JSON file\n",
    "with open('combined_parsed_data.json', 'r') as f:\n",
    "    weather_data = json.load(f)\n",
    "\n",
    "# create a new .csv filew if it doesn't exist.\n",
    "if not os.path.isfile(csv_data_file):\n",
    "    with open(csv_data_file, \"x\") as f:\n",
    "        pass\n",
    "\n",
    "# write the weather data to a CSV file\n",
    "with open('weather_data.csv', 'w', newline='') as f:\n",
    "    writer = csv.writer(f)\n",
    "    \n",
    "    # write the header row\n",
    "    writer.writerow(['date', 'time', 'tempC', 'humidity', 'pressure', 'weatherCond'])\n",
    "    \n",
    "    # write the data rows\n",
    "    for date in weather_data:\n",
    "        for data in weather_data[date]:\n",
    "            writer.writerow([date, data['time'], data['tempC'], data['humidity'], data['pressure'], data['weatherCond']])\n"
   ]
  },
  {
   "cell_type": "code",
   "execution_count": null,
   "metadata": {},
   "outputs": [],
   "source": [
    "# install pandas module\n",
    "%pip install pandas"
   ]
  },
  {
   "cell_type": "code",
   "execution_count": 67,
   "metadata": {},
   "outputs": [
    {
     "data": {
      "text/html": [
       "<div>\n",
       "<style scoped>\n",
       "    .dataframe tbody tr th:only-of-type {\n",
       "        vertical-align: middle;\n",
       "    }\n",
       "\n",
       "    .dataframe tbody tr th {\n",
       "        vertical-align: top;\n",
       "    }\n",
       "\n",
       "    .dataframe thead th {\n",
       "        text-align: right;\n",
       "    }\n",
       "</style>\n",
       "<table border=\"1\" class=\"dataframe\">\n",
       "  <thead>\n",
       "    <tr style=\"text-align: right;\">\n",
       "      <th></th>\n",
       "      <th>date</th>\n",
       "      <th>time</th>\n",
       "      <th>tempC</th>\n",
       "      <th>humidity</th>\n",
       "      <th>pressure</th>\n",
       "      <th>weatherCond</th>\n",
       "    </tr>\n",
       "  </thead>\n",
       "  <tbody>\n",
       "    <tr>\n",
       "      <th>0</th>\n",
       "      <td>2021-12-01</td>\n",
       "      <td>0</td>\n",
       "      <td>9</td>\n",
       "      <td>56</td>\n",
       "      <td>1017</td>\n",
       "      <td>Clear</td>\n",
       "    </tr>\n",
       "    <tr>\n",
       "      <th>1</th>\n",
       "      <td>2021-12-01</td>\n",
       "      <td>100</td>\n",
       "      <td>9</td>\n",
       "      <td>57</td>\n",
       "      <td>1017</td>\n",
       "      <td>Clear</td>\n",
       "    </tr>\n",
       "    <tr>\n",
       "      <th>2</th>\n",
       "      <td>2021-12-01</td>\n",
       "      <td>200</td>\n",
       "      <td>8</td>\n",
       "      <td>58</td>\n",
       "      <td>1018</td>\n",
       "      <td>Clear</td>\n",
       "    </tr>\n",
       "    <tr>\n",
       "      <th>3</th>\n",
       "      <td>2021-12-01</td>\n",
       "      <td>300</td>\n",
       "      <td>8</td>\n",
       "      <td>59</td>\n",
       "      <td>1018</td>\n",
       "      <td>Clear</td>\n",
       "    </tr>\n",
       "    <tr>\n",
       "      <th>4</th>\n",
       "      <td>2021-12-01</td>\n",
       "      <td>400</td>\n",
       "      <td>8</td>\n",
       "      <td>60</td>\n",
       "      <td>1018</td>\n",
       "      <td>Clear</td>\n",
       "    </tr>\n",
       "  </tbody>\n",
       "</table>\n",
       "</div>"
      ],
      "text/plain": [
       "         date  time  tempC  humidity  pressure weatherCond\n",
       "0  2021-12-01     0      9        56      1017       Clear\n",
       "1  2021-12-01   100      9        57      1017       Clear\n",
       "2  2021-12-01   200      8        58      1018       Clear\n",
       "3  2021-12-01   300      8        59      1018       Clear\n",
       "4  2021-12-01   400      8        60      1018       Clear"
      ]
     },
     "execution_count": 67,
     "metadata": {},
     "output_type": "execute_result"
    }
   ],
   "source": [
    "import pandas as pd\n",
    "\n",
    "# read csv file\n",
    "df = pd.read_csv('weather_data.csv', sep=',') \n",
    "#show the first five rows\n",
    "df.head()"
   ]
  },
  {
   "cell_type": "code",
   "execution_count": 68,
   "metadata": {},
   "outputs": [
    {
     "data": {
      "text/plain": [
       "(122712, 6)"
      ]
     },
     "execution_count": 68,
     "metadata": {},
     "output_type": "execute_result"
    }
   ],
   "source": [
    "df.shape"
   ]
  },
  {
   "cell_type": "code",
   "execution_count": 70,
   "metadata": {},
   "outputs": [
    {
     "data": {
      "text/html": [
       "<div>\n",
       "<style scoped>\n",
       "    .dataframe tbody tr th:only-of-type {\n",
       "        vertical-align: middle;\n",
       "    }\n",
       "\n",
       "    .dataframe tbody tr th {\n",
       "        vertical-align: top;\n",
       "    }\n",
       "\n",
       "    .dataframe thead th {\n",
       "        text-align: right;\n",
       "    }\n",
       "</style>\n",
       "<table border=\"1\" class=\"dataframe\">\n",
       "  <thead>\n",
       "    <tr style=\"text-align: right;\">\n",
       "      <th></th>\n",
       "      <th>time</th>\n",
       "      <th>tempC</th>\n",
       "      <th>humidity</th>\n",
       "      <th>pressure</th>\n",
       "    </tr>\n",
       "  </thead>\n",
       "  <tbody>\n",
       "    <tr>\n",
       "      <th>count</th>\n",
       "      <td>122712.000000</td>\n",
       "      <td>122712.000000</td>\n",
       "      <td>122712.000000</td>\n",
       "      <td>122712.000000</td>\n",
       "    </tr>\n",
       "    <tr>\n",
       "      <th>mean</th>\n",
       "      <td>1150.000000</td>\n",
       "      <td>18.268531</td>\n",
       "      <td>62.069040</td>\n",
       "      <td>1014.877013</td>\n",
       "    </tr>\n",
       "    <tr>\n",
       "      <th>std</th>\n",
       "      <td>692.221476</td>\n",
       "      <td>7.530289</td>\n",
       "      <td>14.964622</td>\n",
       "      <td>6.115372</td>\n",
       "    </tr>\n",
       "    <tr>\n",
       "      <th>min</th>\n",
       "      <td>0.000000</td>\n",
       "      <td>-2.000000</td>\n",
       "      <td>17.000000</td>\n",
       "      <td>984.000000</td>\n",
       "    </tr>\n",
       "    <tr>\n",
       "      <th>25%</th>\n",
       "      <td>575.000000</td>\n",
       "      <td>12.000000</td>\n",
       "      <td>51.000000</td>\n",
       "      <td>1011.000000</td>\n",
       "    </tr>\n",
       "    <tr>\n",
       "      <th>50%</th>\n",
       "      <td>1150.000000</td>\n",
       "      <td>18.000000</td>\n",
       "      <td>62.000000</td>\n",
       "      <td>1014.000000</td>\n",
       "    </tr>\n",
       "    <tr>\n",
       "      <th>75%</th>\n",
       "      <td>1725.000000</td>\n",
       "      <td>24.000000</td>\n",
       "      <td>74.000000</td>\n",
       "      <td>1019.000000</td>\n",
       "    </tr>\n",
       "    <tr>\n",
       "      <th>max</th>\n",
       "      <td>2300.000000</td>\n",
       "      <td>44.000000</td>\n",
       "      <td>99.000000</td>\n",
       "      <td>1039.000000</td>\n",
       "    </tr>\n",
       "  </tbody>\n",
       "</table>\n",
       "</div>"
      ],
      "text/plain": [
       "                time          tempC       humidity       pressure\n",
       "count  122712.000000  122712.000000  122712.000000  122712.000000\n",
       "mean     1150.000000      18.268531      62.069040    1014.877013\n",
       "std       692.221476       7.530289      14.964622       6.115372\n",
       "min         0.000000      -2.000000      17.000000     984.000000\n",
       "25%       575.000000      12.000000      51.000000    1011.000000\n",
       "50%      1150.000000      18.000000      62.000000    1014.000000\n",
       "75%      1725.000000      24.000000      74.000000    1019.000000\n",
       "max      2300.000000      44.000000      99.000000    1039.000000"
      ]
     },
     "execution_count": 70,
     "metadata": {},
     "output_type": "execute_result"
    }
   ],
   "source": [
    "df.describe()"
   ]
  },
  {
   "cell_type": "code",
   "execution_count": 71,
   "metadata": {},
   "outputs": [
    {
     "data": {
      "text/plain": [
       "array([['2021-12-01', 0, 9, 56, 1017, 'Clear'],\n",
       "       ['2021-12-01', 100, 9, 57, 1017, 'Clear'],\n",
       "       ['2021-12-01', 200, 8, 58, 1018, 'Clear'],\n",
       "       ...,\n",
       "       ['2021-09-30', 2100, 19, 59, 1021, 'Clear'],\n",
       "       ['2021-09-30', 2200, 19, 57, 1021, 'Partly cloudy'],\n",
       "       ['2021-09-30', 2300, 19, 56, 1021, 'Partly cloudy']], dtype=object)"
      ]
     },
     "execution_count": 71,
     "metadata": {},
     "output_type": "execute_result"
    }
   ],
   "source": [
    "df.values"
   ]
  },
  {
   "cell_type": "code",
   "execution_count": 72,
   "metadata": {},
   "outputs": [
    {
     "data": {
      "text/plain": [
       "<bound method DataFrame.info of               date  time  tempC  humidity  pressure    weatherCond\n",
       "0       2021-12-01     0      9        56      1017          Clear\n",
       "1       2021-12-01   100      9        57      1017          Clear\n",
       "2       2021-12-01   200      8        58      1018          Clear\n",
       "3       2021-12-01   300      8        59      1018          Clear\n",
       "4       2021-12-01   400      8        60      1018          Clear\n",
       "...            ...   ...    ...       ...       ...            ...\n",
       "122707  2021-09-30  1900     21        55      1020          Clear\n",
       "122708  2021-09-30  2000     20        57      1020          Clear\n",
       "122709  2021-09-30  2100     19        59      1021          Clear\n",
       "122710  2021-09-30  2200     19        57      1021  Partly cloudy\n",
       "122711  2021-09-30  2300     19        56      1021  Partly cloudy\n",
       "\n",
       "[122712 rows x 6 columns]>"
      ]
     },
     "execution_count": 72,
     "metadata": {},
     "output_type": "execute_result"
    }
   ],
   "source": [
    "df.info"
   ]
  }
 ],
 "metadata": {
  "kernelspec": {
   "display_name": "Python 3",
   "language": "python",
   "name": "python3"
  },
  "language_info": {
   "codemirror_mode": {
    "name": "ipython",
    "version": 3
   },
   "file_extension": ".py",
   "mimetype": "text/x-python",
   "name": "python",
   "nbconvert_exporter": "python",
   "pygments_lexer": "ipython3",
   "version": "3.11.3"
  },
  "orig_nbformat": 4
 },
 "nbformat": 4,
 "nbformat_minor": 2
}
