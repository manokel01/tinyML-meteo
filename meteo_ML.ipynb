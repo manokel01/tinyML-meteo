{
  "cells": [
    {
      "cell_type": "markdown",
      "source": [
        "#tinyMeteo - weather forecasting on microcontroller"
      ],
      "metadata": {
        "id": "_9GYDsjYYs7p"
      }
    },
    {
      "cell_type": "markdown",
      "metadata": {
        "id": "kO8zd5vVxLn5"
      },
      "source": [
        "## Collect Data \n",
        "\n",
        "Collect weather data for years 2009-2022 for the desired location from World Weather Online API in JSON format."
      ]
    },
    {
      "cell_type": "code",
      "source": [
        "!rm -r parsed_weather_data\n",
        "!rm weather_data.csv\n",
        "!rm weather_data_parsed.csv\n",
        "!rm final_data.csv"
      ],
      "metadata": {
        "id": "JRyQOgQ0AJ7E",
        "outputId": "63bef084-3348-4a29-f15a-b192b54bc34a",
        "colab": {
          "base_uri": "https://localhost:8080/"
        }
      },
      "execution_count": 85,
      "outputs": [
        {
          "output_type": "stream",
          "name": "stdout",
          "text": [
            "rm: cannot remove 'parsed_weather_data': No such file or directory\n",
            "rm: cannot remove 'weather_data.csv': No such file or directory\n",
            "rm: cannot remove 'weather_data_parsed.csv': No such file or directory\n"
          ]
        }
      ]
    },
    {
      "cell_type": "code",
      "source": [
        "from google.colab import files \n",
        "files.upload() #upload a .json file with Kaggle API key and location coordinates or location name"
      ],
      "metadata": {
        "id": "YTz2PTM5x1AN"
      },
      "execution_count": null,
      "outputs": []
    },
    {
      "cell_type": "code",
      "source": [
        "import json\n",
        "\n",
        "# Read the uploaded files for the API key and location detials:\n",
        "with open('api.json') as f:\n",
        "    api_details = json.load(f)\n",
        "\n",
        "# Access the API key and location values\n",
        "API_KEY = api_details['key']\n",
        "LOCATION = api_details['location']"
      ],
      "metadata": {
        "id": "LJzDbtMg0a6N"
      },
      "execution_count": 2,
      "outputs": []
    },
    {
      "cell_type": "code",
      "source": [
        "!rm api.json # deletd .json file"
      ],
      "metadata": {
        "id": "6djq4s1OAZnT"
      },
      "execution_count": 3,
      "outputs": []
    },
    {
      "cell_type": "markdown",
      "metadata": {
        "id": "k35v500JxLoL"
      },
      "source": [
        "### API calls\n",
        "API only allows 30days of data per call. Loop through API calls for all necessary data and all .json files for each each month in a 'weather_data' directory."
      ]
    },
    {
      "cell_type": "code",
      "execution_count": 4,
      "metadata": {
        "id": "kbhcWSPcxLoL"
      },
      "outputs": [],
      "source": [
        "import os\n",
        "import requests\n",
        "import json\n",
        "from calendar import monthrange\n",
        "\n",
        "start_year = 2009\n",
        "end_year = 2022\n",
        "\n",
        "# path of raw data\n",
        "raw_data = 'weather_data'\n",
        "\n",
        "# Create the 'weather_data' directory if it does not already exist\n",
        "if not os.path.exists(raw_data):\n",
        "    os.makedirs(raw_data)\n",
        "\n",
        "#     # Loop through all years and months and create a file for each month\n",
        "for year in range(start_year, end_year+1):\n",
        "    for month in range(1, 13):\n",
        "        # Get the start and end dates for the month\n",
        "        _, num_days = monthrange(year, month) \n",
        "        start_date = f'{year}-{month:02d}-01'\n",
        "        end_date = f'{year}-{month:02d}-{num_days:02d}'\n",
        "        \n",
        "        # Construct the URL and make the request\n",
        "        url = f'https://api.worldweatheronline.com/premium/v1/past-weather.ashx?key={API_KEY}&q={LOCATION}&format=json&date={start_date}&enddate={end_date}'\n",
        "        response = requests.get(url)\n",
        "        data = response.json()\n",
        "        \n",
        "        # Get the filename and filepath for this month's data\n",
        "        filename = f'weather_{year}-{month:02d}.json'\n",
        "        filepath = os.path.join(raw_data, filename)\n",
        "        \n",
        "        # Check if file exists and create it if it does not\n",
        "        if not os.path.exists(filepath):\n",
        "            with open(filepath, 'w') as f:\n",
        "                json.dump(data, f)\n",
        "        else:\n",
        "            print(f'File {filename} already exists.')\n"
      ]
    },
    {
      "cell_type": "markdown",
      "metadata": {
        "id": "2T1ps7GOxLoM"
      },
      "source": [
        "### Filter JSON\n",
        "\n",
        "Filter all created .json files for the date, time, temperature, humidity, pressure, precipitation, and weather description keys and create new parsed .json files in a new directory called 'parsed_weather_data'."
      ]
    },
    {
      "cell_type": "code",
      "execution_count": 5,
      "metadata": {
        "id": "B0mZiYDgxLoN"
      },
      "outputs": [],
      "source": [
        "parsed_data_path = 'parsed_weather_data'\n",
        "\n",
        "# create the directory for the parsed weather data if it doesn't exist\n",
        "if not os.path.exists(parsed_data_path):\n",
        "    os.makedirs(parsed_data_path)\n",
        "\n",
        "# loop through all the JSON files in the weather_data directory\n",
        "for filename in os.listdir(raw_data):\n",
        "    if filename.endswith('.json'):\n",
        "        # extract the location and month from the filename\n",
        "        location_name = filename.split('_')[0]\n",
        "        month = filename.split('_')[1].split('.')[0]\n",
        "\n",
        "        # create a new dictionary to store the parsed data for this month\n",
        "        parsed_month_data = {}\n",
        "\n",
        "        # Open the file and load the JSON data\n",
        "        with open(f'{raw_data}/{filename}', 'r') as f:\n",
        "            file_contents = f.read()\n",
        "            parsed_data = json.loads(file_contents)\n",
        "\n",
        "        # loop through the hourly data for all the dates in the JSON file\n",
        "        for weather_data in parsed_data['data']['weather']:\n",
        "            # extract the date for this set of hourly data\n",
        "            date = weather_data['date']\n",
        "\n",
        "            # create a new list to store the parsed data for this day\n",
        "            parsed_day_data = []\n",
        "\n",
        "            # loop through the hourly data for this date\n",
        "            for hourly_data in weather_data['hourly']:\n",
        "                # extract the values we're interested in\n",
        "                tempC = hourly_data['tempC']\n",
        "                humidity = hourly_data['humidity']\n",
        "                pressure = hourly_data['pressure']\n",
        "                weatherCond = hourly_data['weatherDesc'][0]['value']\n",
        "                time = hourly_data['time']\n",
        "\n",
        "                # add the values to the parsed_day_data list\n",
        "                parsed_day_data.append({\n",
        "                    'time': time,\n",
        "                    'tempC': tempC,\n",
        "                    'humidity': humidity,\n",
        "                    'pressure': pressure,\n",
        "                    'weatherCond': weatherCond\n",
        "                })\n",
        "\n",
        "            # add the parsed day data to the parsed_month_data dictionary\n",
        "            parsed_month_data[date] = parsed_day_data\n",
        "\n",
        "        # write the parsed_month_data to a new JSON file\n",
        "        with open(f'{parsed_data_path}/{location_name}_{month}_parsed.json', 'w') as f:\n",
        "            json.dump(parsed_month_data, f)\n"
      ]
    },
    {
      "cell_type": "markdown",
      "metadata": {
        "id": "Jkc2B1h6xLoV"
      },
      "source": [
        "Combine all parsed .json files into a single .json file containing all data of interest."
      ]
    },
    {
      "cell_type": "code",
      "execution_count": 6,
      "metadata": {
        "id": "gukzS2luxLoa"
      },
      "outputs": [],
      "source": [
        "# create the combined data dictionary\n",
        "combined_data = {}\n",
        "\n",
        "# combined parsed json data path\n",
        "json_path = f'{parsed_data_path}/_combined_parsed_data.json'\n",
        "\n",
        "# loop over each file in the directory\n",
        "for filename in os.listdir(parsed_data_path):\n",
        "    if filename.endswith('.json'):\n",
        "        # load the contents of the file into a dictionary\n",
        "        with open(os.path.join(parsed_data_path, filename)) as f:\n",
        "            parsed_data = json.load(f)\n",
        "        \n",
        "        # loop over each date in the parsed data dictionary\n",
        "        for date in parsed_data.keys():\n",
        "            # if the date doesn't exist in the combined data dictionary, add it with an empty list as its value\n",
        "            if date not in combined_data:\n",
        "                combined_data[date] = []\n",
        "            \n",
        "            # add the weather data to the combined_data dictionary\n",
        "            combined_data[date].extend(parsed_data[date])\n",
        "\n",
        "# save the combined data to a new file\n",
        "with open(json_path, 'w') as f:\n",
        "    json.dump(combined_data, f)\n"
      ]
    },
    {
      "cell_type": "markdown",
      "metadata": {
        "id": "QOpHWHh2xLob"
      },
      "source": [
        "### Convert to CSV"
      ]
    },
    {
      "cell_type": "code",
      "execution_count": 8,
      "metadata": {
        "id": "ROUh223HxLoc"
      },
      "outputs": [],
      "source": [
        "import csv\n",
        "from datetime import datetime\n",
        "\n",
        "# the csv that contains all values\n",
        "csv_data_file = '_combined_parsed_data.csv'\n",
        "# the parsed csv in the desired final format\n",
        "final_file = \"final_data.csv\"\n",
        "\n",
        "if not os.path.isfile(f'{parsed_data_path}/{csv_data_file}'):\n",
        "    with open(f'{parsed_data_path}/{csv_data_file}', \"x\") as f:\n",
        "        pass\n",
        "\n",
        "# Write initial CSV file with headers and weather data\n",
        "with open(f'{parsed_data_path}/{csv_data_file}', 'w', newline='') as f:\n",
        "    writer = csv.writer(f)\n",
        "    writer.writerow(['date', 'time', 'tempC', 'humidity', 'pressure', 'weatherCond'])\n",
        "\n",
        "    with open(json_path, 'r') as f:\n",
        "        weather_data = json.load(f)\n",
        "\n",
        "    for date in weather_data:\n",
        "        for data in weather_data[date]:\n",
        "            writer.writerow([date, data['time'], data['tempC'], data['humidity'], data['pressure'], data['weatherCond']])\n",
        "\n",
        "# Read the initial CSV file, transform the date format, and write to the final file\n",
        "with open(f'{parsed_data_path}/{csv_data_file}', 'r') as infile, open(final_file, 'w', newline='') as outfile:\n",
        "    reader = csv.DictReader(infile)\n",
        "    fieldnames = ['date', 'year', 'month', 'day', 'time', 'tempC', 'humidity', 'pressure', 'weatherCond']\n",
        "    writer = csv.DictWriter(outfile, fieldnames=fieldnames)\n",
        "    writer.writeheader()\n",
        "\n",
        "    for row in reader:\n",
        "        date = datetime.strptime(row['date'], '%Y-%m-%d').strftime('%Y%m%d')\n",
        "        year, month, day = date[:4], date[4:6], date[6:]\n",
        "        writer.writerow({\n",
        "            'date': date,\n",
        "            'year': year,\n",
        "            'month': month,\n",
        "            'day': day,\n",
        "            'time': row['time'],\n",
        "            'tempC': row['tempC'],\n",
        "            'humidity': row['humidity'],\n",
        "            'pressure': row['pressure'],\n",
        "            'weatherCond': row['weatherCond']\n",
        "        })\n"
      ]
    },
    {
      "cell_type": "code",
      "execution_count": null,
      "metadata": {
        "id": "TMV7pff9xLoc"
      },
      "outputs": [],
      "source": [
        "# install pandas module\n",
        "!pip install pandas"
      ]
    },
    {
      "cell_type": "markdown",
      "source": [
        "## Preprocessing of data"
      ],
      "metadata": {
        "id": "TdH6SSQUQ23S"
      }
    },
    {
      "cell_type": "code",
      "execution_count": 91,
      "metadata": {
        "colab": {
          "base_uri": "https://localhost:8080/",
          "height": 204
        },
        "id": "FbT8O2FBxLoc",
        "outputId": "8ac42c6d-0f4c-4e62-90db-59f938265b60"
      },
      "outputs": [
        {
          "output_type": "execute_result",
          "data": {
            "text/plain": [
              "       date  year  month  day  time  tempC  humidity  pressure  \\\n",
              "0  20210601  2021      6    1     0     19        74      1011   \n",
              "1  20210601  2021      6    1   100     18        76      1011   \n",
              "2  20210601  2021      6    1   200     18        77      1011   \n",
              "3  20210601  2021      6    1   300     17        78      1011   \n",
              "4  20210601  2021      6    1   400     18        77      1010   \n",
              "\n",
              "            weatherCond  \n",
              "0  Patchy rain possible  \n",
              "1                Cloudy  \n",
              "2                Cloudy  \n",
              "3                Cloudy  \n",
              "4                Cloudy  "
            ],
            "text/html": [
              "\n",
              "  <div id=\"df-83241053-63ff-42a7-be74-64376f50d25a\">\n",
              "    <div class=\"colab-df-container\">\n",
              "      <div>\n",
              "<style scoped>\n",
              "    .dataframe tbody tr th:only-of-type {\n",
              "        vertical-align: middle;\n",
              "    }\n",
              "\n",
              "    .dataframe tbody tr th {\n",
              "        vertical-align: top;\n",
              "    }\n",
              "\n",
              "    .dataframe thead th {\n",
              "        text-align: right;\n",
              "    }\n",
              "</style>\n",
              "<table border=\"1\" class=\"dataframe\">\n",
              "  <thead>\n",
              "    <tr style=\"text-align: right;\">\n",
              "      <th></th>\n",
              "      <th>date</th>\n",
              "      <th>year</th>\n",
              "      <th>month</th>\n",
              "      <th>day</th>\n",
              "      <th>time</th>\n",
              "      <th>tempC</th>\n",
              "      <th>humidity</th>\n",
              "      <th>pressure</th>\n",
              "      <th>weatherCond</th>\n",
              "    </tr>\n",
              "  </thead>\n",
              "  <tbody>\n",
              "    <tr>\n",
              "      <th>0</th>\n",
              "      <td>20210601</td>\n",
              "      <td>2021</td>\n",
              "      <td>6</td>\n",
              "      <td>1</td>\n",
              "      <td>0</td>\n",
              "      <td>19</td>\n",
              "      <td>74</td>\n",
              "      <td>1011</td>\n",
              "      <td>Patchy rain possible</td>\n",
              "    </tr>\n",
              "    <tr>\n",
              "      <th>1</th>\n",
              "      <td>20210601</td>\n",
              "      <td>2021</td>\n",
              "      <td>6</td>\n",
              "      <td>1</td>\n",
              "      <td>100</td>\n",
              "      <td>18</td>\n",
              "      <td>76</td>\n",
              "      <td>1011</td>\n",
              "      <td>Cloudy</td>\n",
              "    </tr>\n",
              "    <tr>\n",
              "      <th>2</th>\n",
              "      <td>20210601</td>\n",
              "      <td>2021</td>\n",
              "      <td>6</td>\n",
              "      <td>1</td>\n",
              "      <td>200</td>\n",
              "      <td>18</td>\n",
              "      <td>77</td>\n",
              "      <td>1011</td>\n",
              "      <td>Cloudy</td>\n",
              "    </tr>\n",
              "    <tr>\n",
              "      <th>3</th>\n",
              "      <td>20210601</td>\n",
              "      <td>2021</td>\n",
              "      <td>6</td>\n",
              "      <td>1</td>\n",
              "      <td>300</td>\n",
              "      <td>17</td>\n",
              "      <td>78</td>\n",
              "      <td>1011</td>\n",
              "      <td>Cloudy</td>\n",
              "    </tr>\n",
              "    <tr>\n",
              "      <th>4</th>\n",
              "      <td>20210601</td>\n",
              "      <td>2021</td>\n",
              "      <td>6</td>\n",
              "      <td>1</td>\n",
              "      <td>400</td>\n",
              "      <td>18</td>\n",
              "      <td>77</td>\n",
              "      <td>1010</td>\n",
              "      <td>Cloudy</td>\n",
              "    </tr>\n",
              "  </tbody>\n",
              "</table>\n",
              "</div>\n",
              "      <button class=\"colab-df-convert\" onclick=\"convertToInteractive('df-83241053-63ff-42a7-be74-64376f50d25a')\"\n",
              "              title=\"Convert this dataframe to an interactive table.\"\n",
              "              style=\"display:none;\">\n",
              "        \n",
              "  <svg xmlns=\"http://www.w3.org/2000/svg\" height=\"24px\"viewBox=\"0 0 24 24\"\n",
              "       width=\"24px\">\n",
              "    <path d=\"M0 0h24v24H0V0z\" fill=\"none\"/>\n",
              "    <path d=\"M18.56 5.44l.94 2.06.94-2.06 2.06-.94-2.06-.94-.94-2.06-.94 2.06-2.06.94zm-11 1L8.5 8.5l.94-2.06 2.06-.94-2.06-.94L8.5 2.5l-.94 2.06-2.06.94zm10 10l.94 2.06.94-2.06 2.06-.94-2.06-.94-.94-2.06-.94 2.06-2.06.94z\"/><path d=\"M17.41 7.96l-1.37-1.37c-.4-.4-.92-.59-1.43-.59-.52 0-1.04.2-1.43.59L10.3 9.45l-7.72 7.72c-.78.78-.78 2.05 0 2.83L4 21.41c.39.39.9.59 1.41.59.51 0 1.02-.2 1.41-.59l7.78-7.78 2.81-2.81c.8-.78.8-2.07 0-2.86zM5.41 20L4 18.59l7.72-7.72 1.47 1.35L5.41 20z\"/>\n",
              "  </svg>\n",
              "      </button>\n",
              "      \n",
              "  <style>\n",
              "    .colab-df-container {\n",
              "      display:flex;\n",
              "      flex-wrap:wrap;\n",
              "      gap: 12px;\n",
              "    }\n",
              "\n",
              "    .colab-df-convert {\n",
              "      background-color: #E8F0FE;\n",
              "      border: none;\n",
              "      border-radius: 50%;\n",
              "      cursor: pointer;\n",
              "      display: none;\n",
              "      fill: #1967D2;\n",
              "      height: 32px;\n",
              "      padding: 0 0 0 0;\n",
              "      width: 32px;\n",
              "    }\n",
              "\n",
              "    .colab-df-convert:hover {\n",
              "      background-color: #E2EBFA;\n",
              "      box-shadow: 0px 1px 2px rgba(60, 64, 67, 0.3), 0px 1px 3px 1px rgba(60, 64, 67, 0.15);\n",
              "      fill: #174EA6;\n",
              "    }\n",
              "\n",
              "    [theme=dark] .colab-df-convert {\n",
              "      background-color: #3B4455;\n",
              "      fill: #D2E3FC;\n",
              "    }\n",
              "\n",
              "    [theme=dark] .colab-df-convert:hover {\n",
              "      background-color: #434B5C;\n",
              "      box-shadow: 0px 1px 3px 1px rgba(0, 0, 0, 0.15);\n",
              "      filter: drop-shadow(0px 1px 2px rgba(0, 0, 0, 0.3));\n",
              "      fill: #FFFFFF;\n",
              "    }\n",
              "  </style>\n",
              "\n",
              "      <script>\n",
              "        const buttonEl =\n",
              "          document.querySelector('#df-83241053-63ff-42a7-be74-64376f50d25a button.colab-df-convert');\n",
              "        buttonEl.style.display =\n",
              "          google.colab.kernel.accessAllowed ? 'block' : 'none';\n",
              "\n",
              "        async function convertToInteractive(key) {\n",
              "          const element = document.querySelector('#df-83241053-63ff-42a7-be74-64376f50d25a');\n",
              "          const dataTable =\n",
              "            await google.colab.kernel.invokeFunction('convertToInteractive',\n",
              "                                                     [key], {});\n",
              "          if (!dataTable) return;\n",
              "\n",
              "          const docLinkHtml = 'Like what you see? Visit the ' +\n",
              "            '<a target=\"_blank\" href=https://colab.research.google.com/notebooks/data_table.ipynb>data table notebook</a>'\n",
              "            + ' to learn more about interactive tables.';\n",
              "          element.innerHTML = '';\n",
              "          dataTable['output_type'] = 'display_data';\n",
              "          await google.colab.output.renderOutput(dataTable, element);\n",
              "          const docLink = document.createElement('div');\n",
              "          docLink.innerHTML = docLinkHtml;\n",
              "          element.appendChild(docLink);\n",
              "        }\n",
              "      </script>\n",
              "    </div>\n",
              "  </div>\n",
              "  "
            ]
          },
          "metadata": {},
          "execution_count": 91
        }
      ],
      "source": [
        "import pandas as pd\n",
        "\n",
        "# read csv file\n",
        "df = pd.read_csv('final_data.csv', sep=',') \n",
        "#show the first five rows\n",
        "df.head()"
      ]
    },
    {
      "cell_type": "code",
      "source": [
        "# select only the values we need\\\n",
        "df = df[['tempC', 'humidity','pressure','weatherCond']]"
      ],
      "metadata": {
        "id": "nxBlpdfNNUdZ"
      },
      "execution_count": 92,
      "outputs": []
    },
    {
      "cell_type": "code",
      "execution_count": 53,
      "metadata": {
        "colab": {
          "base_uri": "https://localhost:8080/"
        },
        "id": "ZM5UIdOQxLof",
        "outputId": "dade156a-e305-468f-91ce-7c733a567172"
      },
      "outputs": [
        {
          "output_type": "execute_result",
          "data": {
            "text/plain": [
              "(122712, 4)"
            ]
          },
          "metadata": {},
          "execution_count": 53
        }
      ],
      "source": [
        "df.shape"
      ]
    },
    {
      "cell_type": "code",
      "execution_count": 14,
      "metadata": {
        "colab": {
          "base_uri": "https://localhost:8080/",
          "height": 297
        },
        "id": "ri76Qy1_xLof",
        "outputId": "169b214a-7507-43f6-e432-9dd198ab1e28"
      },
      "outputs": [
        {
          "output_type": "execute_result",
          "data": {
            "text/plain": [
              "            humidity       pressure\n",
              "count  122712.000000  122712.000000\n",
              "mean       62.035416    1014.878692\n",
              "std        14.964368       6.113101\n",
              "min        17.000000     984.000000\n",
              "25%        51.000000    1011.000000\n",
              "50%        62.000000    1014.000000\n",
              "75%        74.000000    1019.000000\n",
              "max        99.000000    1039.000000"
            ],
            "text/html": [
              "\n",
              "  <div id=\"df-f46e9382-833d-4d66-a9cf-508a2ce12380\">\n",
              "    <div class=\"colab-df-container\">\n",
              "      <div>\n",
              "<style scoped>\n",
              "    .dataframe tbody tr th:only-of-type {\n",
              "        vertical-align: middle;\n",
              "    }\n",
              "\n",
              "    .dataframe tbody tr th {\n",
              "        vertical-align: top;\n",
              "    }\n",
              "\n",
              "    .dataframe thead th {\n",
              "        text-align: right;\n",
              "    }\n",
              "</style>\n",
              "<table border=\"1\" class=\"dataframe\">\n",
              "  <thead>\n",
              "    <tr style=\"text-align: right;\">\n",
              "      <th></th>\n",
              "      <th>humidity</th>\n",
              "      <th>pressure</th>\n",
              "    </tr>\n",
              "  </thead>\n",
              "  <tbody>\n",
              "    <tr>\n",
              "      <th>count</th>\n",
              "      <td>122712.000000</td>\n",
              "      <td>122712.000000</td>\n",
              "    </tr>\n",
              "    <tr>\n",
              "      <th>mean</th>\n",
              "      <td>62.035416</td>\n",
              "      <td>1014.878692</td>\n",
              "    </tr>\n",
              "    <tr>\n",
              "      <th>std</th>\n",
              "      <td>14.964368</td>\n",
              "      <td>6.113101</td>\n",
              "    </tr>\n",
              "    <tr>\n",
              "      <th>min</th>\n",
              "      <td>17.000000</td>\n",
              "      <td>984.000000</td>\n",
              "    </tr>\n",
              "    <tr>\n",
              "      <th>25%</th>\n",
              "      <td>51.000000</td>\n",
              "      <td>1011.000000</td>\n",
              "    </tr>\n",
              "    <tr>\n",
              "      <th>50%</th>\n",
              "      <td>62.000000</td>\n",
              "      <td>1014.000000</td>\n",
              "    </tr>\n",
              "    <tr>\n",
              "      <th>75%</th>\n",
              "      <td>74.000000</td>\n",
              "      <td>1019.000000</td>\n",
              "    </tr>\n",
              "    <tr>\n",
              "      <th>max</th>\n",
              "      <td>99.000000</td>\n",
              "      <td>1039.000000</td>\n",
              "    </tr>\n",
              "  </tbody>\n",
              "</table>\n",
              "</div>\n",
              "      <button class=\"colab-df-convert\" onclick=\"convertToInteractive('df-f46e9382-833d-4d66-a9cf-508a2ce12380')\"\n",
              "              title=\"Convert this dataframe to an interactive table.\"\n",
              "              style=\"display:none;\">\n",
              "        \n",
              "  <svg xmlns=\"http://www.w3.org/2000/svg\" height=\"24px\"viewBox=\"0 0 24 24\"\n",
              "       width=\"24px\">\n",
              "    <path d=\"M0 0h24v24H0V0z\" fill=\"none\"/>\n",
              "    <path d=\"M18.56 5.44l.94 2.06.94-2.06 2.06-.94-2.06-.94-.94-2.06-.94 2.06-2.06.94zm-11 1L8.5 8.5l.94-2.06 2.06-.94-2.06-.94L8.5 2.5l-.94 2.06-2.06.94zm10 10l.94 2.06.94-2.06 2.06-.94-2.06-.94-.94-2.06-.94 2.06-2.06.94z\"/><path d=\"M17.41 7.96l-1.37-1.37c-.4-.4-.92-.59-1.43-.59-.52 0-1.04.2-1.43.59L10.3 9.45l-7.72 7.72c-.78.78-.78 2.05 0 2.83L4 21.41c.39.39.9.59 1.41.59.51 0 1.02-.2 1.41-.59l7.78-7.78 2.81-2.81c.8-.78.8-2.07 0-2.86zM5.41 20L4 18.59l7.72-7.72 1.47 1.35L5.41 20z\"/>\n",
              "  </svg>\n",
              "      </button>\n",
              "      \n",
              "  <style>\n",
              "    .colab-df-container {\n",
              "      display:flex;\n",
              "      flex-wrap:wrap;\n",
              "      gap: 12px;\n",
              "    }\n",
              "\n",
              "    .colab-df-convert {\n",
              "      background-color: #E8F0FE;\n",
              "      border: none;\n",
              "      border-radius: 50%;\n",
              "      cursor: pointer;\n",
              "      display: none;\n",
              "      fill: #1967D2;\n",
              "      height: 32px;\n",
              "      padding: 0 0 0 0;\n",
              "      width: 32px;\n",
              "    }\n",
              "\n",
              "    .colab-df-convert:hover {\n",
              "      background-color: #E2EBFA;\n",
              "      box-shadow: 0px 1px 2px rgba(60, 64, 67, 0.3), 0px 1px 3px 1px rgba(60, 64, 67, 0.15);\n",
              "      fill: #174EA6;\n",
              "    }\n",
              "\n",
              "    [theme=dark] .colab-df-convert {\n",
              "      background-color: #3B4455;\n",
              "      fill: #D2E3FC;\n",
              "    }\n",
              "\n",
              "    [theme=dark] .colab-df-convert:hover {\n",
              "      background-color: #434B5C;\n",
              "      box-shadow: 0px 1px 3px 1px rgba(0, 0, 0, 0.15);\n",
              "      filter: drop-shadow(0px 1px 2px rgba(0, 0, 0, 0.3));\n",
              "      fill: #FFFFFF;\n",
              "    }\n",
              "  </style>\n",
              "\n",
              "      <script>\n",
              "        const buttonEl =\n",
              "          document.querySelector('#df-f46e9382-833d-4d66-a9cf-508a2ce12380 button.colab-df-convert');\n",
              "        buttonEl.style.display =\n",
              "          google.colab.kernel.accessAllowed ? 'block' : 'none';\n",
              "\n",
              "        async function convertToInteractive(key) {\n",
              "          const element = document.querySelector('#df-f46e9382-833d-4d66-a9cf-508a2ce12380');\n",
              "          const dataTable =\n",
              "            await google.colab.kernel.invokeFunction('convertToInteractive',\n",
              "                                                     [key], {});\n",
              "          if (!dataTable) return;\n",
              "\n",
              "          const docLinkHtml = 'Like what you see? Visit the ' +\n",
              "            '<a target=\"_blank\" href=https://colab.research.google.com/notebooks/data_table.ipynb>data table notebook</a>'\n",
              "            + ' to learn more about interactive tables.';\n",
              "          element.innerHTML = '';\n",
              "          dataTable['output_type'] = 'display_data';\n",
              "          await google.colab.output.renderOutput(dataTable, element);\n",
              "          const docLink = document.createElement('div');\n",
              "          docLink.innerHTML = docLinkHtml;\n",
              "          element.appendChild(docLink);\n",
              "        }\n",
              "      </script>\n",
              "    </div>\n",
              "  </div>\n",
              "  "
            ]
          },
          "metadata": {},
          "execution_count": 14
        }
      ],
      "source": [
        "df.describe()"
      ]
    },
    {
      "cell_type": "code",
      "execution_count": 15,
      "metadata": {
        "colab": {
          "base_uri": "https://localhost:8080/"
        },
        "id": "kLoE4ZdxxLog",
        "outputId": "910605f3-64f3-4463-a944-86e08a2cf864"
      },
      "outputs": [
        {
          "output_type": "execute_result",
          "data": {
            "text/plain": [
              "array([[74, 1011, 'Patchy rain possible'],\n",
              "       [76, 1011, 'Cloudy'],\n",
              "       [77, 1011, 'Cloudy'],\n",
              "       ...,\n",
              "       [46, 1021, 'Clear'],\n",
              "       [49, 1021, 'Clear'],\n",
              "       [53, 1022, 'Partly cloudy']], dtype=object)"
            ]
          },
          "metadata": {},
          "execution_count": 15
        }
      ],
      "source": [
        "df.values"
      ]
    },
    {
      "cell_type": "code",
      "execution_count": 16,
      "metadata": {
        "colab": {
          "base_uri": "https://localhost:8080/"
        },
        "id": "Gbnzs66qxLog",
        "outputId": "0dcd692f-bfb9-4f10-e7c1-30b661acf13c"
      },
      "outputs": [
        {
          "output_type": "execute_result",
          "data": {
            "text/plain": [
              "<bound method DataFrame.info of         humidity  pressure           weatherCond\n",
              "0             74      1011  Patchy rain possible\n",
              "1             76      1011                Cloudy\n",
              "2             77      1011                Cloudy\n",
              "3             78      1011                Cloudy\n",
              "4             77      1010                Cloudy\n",
              "...          ...       ...                   ...\n",
              "122707        40      1020                 Clear\n",
              "122708        43      1021                 Clear\n",
              "122709        46      1021                 Clear\n",
              "122710        49      1021                 Clear\n",
              "122711        53      1022         Partly cloudy\n",
              "\n",
              "[122712 rows x 3 columns]>"
            ]
          },
          "metadata": {},
          "execution_count": 16
        }
      ],
      "source": [
        "df.info"
      ]
    },
    {
      "cell_type": "markdown",
      "source": [
        "### Assign Labels\n",
        "Assign numbers to weather description values"
      ],
      "metadata": {
        "id": "xIy_H-4uBXVk"
      }
    },
    {
      "cell_type": "code",
      "source": [
        "# Assign an integer value to each weather description in the \"weather description\" column\n",
        "df = df.dropna()  # remove empty rows\n",
        "\n",
        "# Convert each category into an integer\n",
        "for i in df.index:\n",
        "    if df.loc[i, \"weatherCond\"] == 'Clear':\n",
        "        df.loc[i, \"weatherCond\"] = 0\n",
        "    elif df.loc[i, \"weatherCond\"] == 'Sunny':\n",
        "        df.loc[i, \"weatherCond\"] = 0\n",
        "    elif df.loc[i, \"weatherCond\"] == 'Partly cloudy':\n",
        "        df.loc[i, \"weatherCond\"] = 1\n",
        "    elif df.loc[i, \"weatherCond\"] == 'Cloudy':\n",
        "        df.loc[i, \"weatherCond\"] = 1\n",
        "    elif df.loc[i, \"weatherCond\"] == 'Overcast':\n",
        "        df.loc[i, \"weatherCond\"] = 1\n",
        "    elif df.loc[i, \"weatherCond\"] == 'Moderate rain at times':\n",
        "        df.loc[i, \"weatherCond\"] = 2\n",
        "    elif df.loc[i, \"weatherCond\"] == 'Patchy rain possible':\n",
        "        df.loc[i, \"weatherCond\"] = 2\n",
        "    elif df.loc[i, \"weatherCond\"] == 'Moderate or heavy rain shower':\n",
        "        df.loc[i, \"weatherCond\"] = 3\n",
        "    elif df.loc[i, \"weatherCond\"] == 'Heavy rain at times':\n",
        "        df.loc[i, \"weatherCond\"] = 3\n",
        "    elif df.loc[i, \"weatherCond\"] == 'Light freezing rain':\n",
        "        df.loc[i, \"weatherCond\"] = 4\n",
        "    elif df.loc[i, \"weatherCond\"] == 'Patchy moderate snow':\n",
        "        df.loc[i, \"weatherCond\"] = 4\n",
        "    else:\n",
        "        df = df.drop([i])  # we don't consider other classes, so we drop them\n",
        "\n",
        "# Cast weatherCond column from string to int\n",
        "df[\"weatherCond\"] = df[\"weatherCond\"].astype(int)\n"
      ],
      "metadata": {
        "id": "HbBMRqaqBqCd"
      },
      "execution_count": 93,
      "outputs": []
    },
    {
      "cell_type": "markdown",
      "source": [
        "### Case1: Decision Tree Classifier"
      ],
      "metadata": {
        "id": "DRSXmPJzmLBl"
      }
    },
    {
      "cell_type": "code",
      "source": [
        "from sklearn.metrics import accuracy_score\n",
        "from sklearn.tree import DecisionTreeClassifier\n",
        "from sklearn.model_selection import train_test_split\n",
        "\n",
        "X = df.drop(columns=['weatherCond'])\n",
        "y = df['weatherCond']\n",
        "X_train, X_test, y_train, y_test = train_test_split(X, y, test_size=0.2)\n",
        "\n",
        "model = DecisionTreeClassifier()\n",
        "model.fit(X_train,y_train)\n",
        "predictions = model.predict(X_test)\n",
        "\n",
        "score = accuracy_score(y_test, predictions)\n",
        "score"
      ],
      "metadata": {
        "colab": {
          "base_uri": "https://localhost:8080/"
        },
        "id": "8xWK22c2j6W_",
        "outputId": "51feb26a-6d65-421d-f90f-6fecfc1ea864"
      },
      "execution_count": 94,
      "outputs": [
        {
          "output_type": "execute_result",
          "data": {
            "text/plain": [
              "0.6907875972782463"
            ]
          },
          "metadata": {},
          "execution_count": 94
        }
      ]
    },
    {
      "cell_type": "markdown",
      "source": [
        "### Case 2: Dense Neural Network"
      ],
      "metadata": {
        "id": "3HmHyiN_mYtz"
      }
    },
    {
      "cell_type": "markdown",
      "source": [
        "### Split Data"
      ],
      "metadata": {
        "id": "-azL9ieKREh8"
      }
    },
    {
      "cell_type": "code",
      "source": [
        "import numpy as np\n",
        "from keras.utils import to_categorical\n",
        "\n",
        "labels = df.pop('weatherCond').values # Create labels as integer array\n",
        "features = df.values # Use DataFrame directly as features"
      ],
      "metadata": {
        "id": "s56KeVdABwMr"
      },
      "execution_count": 86,
      "outputs": []
    },
    {
      "cell_type": "code",
      "source": [
        "features"
      ],
      "metadata": {
        "colab": {
          "base_uri": "https://localhost:8080/"
        },
        "id": "JjhSKaN9KWo6",
        "outputId": "1455ab23-0a76-4ab0-ea94-52ae4357a2b2"
      },
      "execution_count": 43,
      "outputs": [
        {
          "output_type": "execute_result",
          "data": {
            "text/plain": [
              "array([[  74, 1011],\n",
              "       [  76, 1011],\n",
              "       [  77, 1011],\n",
              "       ...,\n",
              "       [  46, 1021],\n",
              "       [  49, 1021],\n",
              "       [  53, 1022]])"
            ]
          },
          "metadata": {},
          "execution_count": 43
        }
      ]
    },
    {
      "cell_type": "code",
      "source": [
        "labels"
      ],
      "metadata": {
        "colab": {
          "base_uri": "https://localhost:8080/"
        },
        "id": "W0wv2qevOZtV",
        "outputId": "e3804b6a-8388-43a2-9559-83fe537753e2"
      },
      "execution_count": 44,
      "outputs": [
        {
          "output_type": "execute_result",
          "data": {
            "text/plain": [
              "array([[0., 0., 1., 0., 0.],\n",
              "       [0., 1., 0., 0., 0.],\n",
              "       [0., 1., 0., 0., 0.],\n",
              "       ...,\n",
              "       [1., 0., 0., 0., 0.],\n",
              "       [1., 0., 0., 0., 0.],\n",
              "       [0., 1., 0., 0., 0.]], dtype=float32)"
            ]
          },
          "metadata": {},
          "execution_count": 44
        }
      ]
    },
    {
      "cell_type": "code",
      "source": [
        "from sklearn.model_selection import train_test_split\n",
        "\n",
        "#Split the dataset into training set 85% and test set 15%\n",
        "train_features, test_features, train_labels, test_labels = train_test_split(features, labels, test_size=0.20, shuffle=True)\n",
        "\n"
      ],
      "metadata": {
        "id": "2NPXOJjNB3Ry"
      },
      "execution_count": 87,
      "outputs": []
    },
    {
      "cell_type": "markdown",
      "source": [
        "## The Model"
      ],
      "metadata": {
        "id": "Sd_N1tlJRRE_"
      }
    },
    {
      "cell_type": "markdown",
      "source": [
        "The model used is a densely connected neural network (DNN). The activation function used is ReLU (rectified linear unit), and the output layer uses the softmax activation function. The dropout regularization technique is applied with a rate of 0.4, which randomly drops connections between neurons to prevent overfitting.\n",
        "\n",
        "The model is compiled using the Adam optimizer, categorical cross-entropy loss function, and accuracy metric. The summary method is called to display the model's architecture and parameters."
      ],
      "metadata": {
        "id": "pwBOcVxKT8On"
      }
    },
    {
      "cell_type": "code",
      "source": [
        "import tensorflow as tf\n",
        "from tensorflow.keras import regularizers\n",
        "from keras.utils import to_categorical\n",
        "\n",
        "# Parameters\n",
        "NB_classes = 5 # Number of outputs\n",
        "NB_neurones = 3 # Main number of neurons\n",
        "NB_features = 3 # Number of inputs\n",
        "activation_func = tf.keras.activations.relu # Activation function used\n",
        "\n",
        "# One-hot encode target labels\n",
        "train_labels = to_categorical(train_labels, num_classes=NB_classes)\n",
        "test_labels = to_categorical(test_labels, num_classes=NB_classes)\n",
        "\n",
        "#Densly connected neural network\n",
        "model = tf.keras.Sequential([\n",
        "                             tf.keras.layers.Dense(NB_neurones,activation=activation_func,input_shape=(NB_features,)),\n",
        "                             tf.keras.layers.Dense(NB_neurones,activation=activation_func, kernel_regularizer=regularizers.l2(0.01)),\n",
        "                             tf.keras.layers.Dense(NB_neurones,activation=activation_func, kernel_regularizer=regularizers.l2(0.01)),\n",
        "                             tf.keras.layers.Dense(NB_neurones,activation=activation_func, kernel_regularizer=regularizers.l2(0.01)),\n",
        "                             tf.keras.layers.Dense(NB_neurones,activation=activation_func, kernel_regularizer=regularizers.l2(0.01)),\n",
        "                             tf.keras.layers.Dense(NB_neurones,activation=activation_func, kernel_regularizer=regularizers.l2(0.01)),\n",
        "                             tf.keras.layers.Dense(NB_neurones,activation=activation_func, kernel_regularizer=regularizers.l2(0.01)),\n",
        "                             tf.keras.layers.Dense(NB_neurones,activation=activation_func, kernel_regularizer=regularizers.l2(0.01)),\n",
        "                             tf.keras.layers.Dense(NB_neurones,activation=activation_func, kernel_regularizer=regularizers.l2(0.01)),\n",
        "                             tf.keras.layers.Dense(NB_neurones,activation=activation_func, kernel_regularizer=regularizers.l2(0.01)),\n",
        "                             tf.keras.layers.Dense(NB_neurones,activation=activation_func, kernel_regularizer=regularizers.l2(0.01)),\n",
        "                             tf.keras.layers.Dense(NB_neurones,activation=activation_func, kernel_regularizer=regularizers.l2(0.01)),\n",
        "                             tf.keras.layers.Dropout(0.4), #drop randomly some connection to avoid overfiting\n",
        "                             #softmax will output an array containing probabilities of each classes\n",
        "                             #the highest one is the predicted class\n",
        "                             tf.keras.layers.Dense(NB_classes,activation=tf.keras.activations.softmax)\n",
        "])\n",
        "\n",
        "custom_optimizer = tf.keras.optimizers.Adam(learning_rate=0.0001)\n",
        "\n",
        "model.compile(optimizer=custom_optimizer, loss=tf.keras.losses.CategoricalCrossentropy(), metrics=['accuracy'])\n",
        "\n",
        "model.summary()"
      ],
      "metadata": {
        "colab": {
          "base_uri": "https://localhost:8080/"
        },
        "id": "QCe4eefqOlQQ",
        "outputId": "7d96e214-d9e5-47ea-c226-f0357cdc994f"
      },
      "execution_count": 88,
      "outputs": [
        {
          "output_type": "stream",
          "name": "stdout",
          "text": [
            "Model: \"sequential_9\"\n",
            "_________________________________________________________________\n",
            " Layer (type)                Output Shape              Param #   \n",
            "=================================================================\n",
            " dense_117 (Dense)           (None, 3)                 12        \n",
            "                                                                 \n",
            " dense_118 (Dense)           (None, 3)                 12        \n",
            "                                                                 \n",
            " dense_119 (Dense)           (None, 3)                 12        \n",
            "                                                                 \n",
            " dense_120 (Dense)           (None, 3)                 12        \n",
            "                                                                 \n",
            " dense_121 (Dense)           (None, 3)                 12        \n",
            "                                                                 \n",
            " dense_122 (Dense)           (None, 3)                 12        \n",
            "                                                                 \n",
            " dense_123 (Dense)           (None, 3)                 12        \n",
            "                                                                 \n",
            " dense_124 (Dense)           (None, 3)                 12        \n",
            "                                                                 \n",
            " dense_125 (Dense)           (None, 3)                 12        \n",
            "                                                                 \n",
            " dense_126 (Dense)           (None, 3)                 12        \n",
            "                                                                 \n",
            " dense_127 (Dense)           (None, 3)                 12        \n",
            "                                                                 \n",
            " dense_128 (Dense)           (None, 3)                 12        \n",
            "                                                                 \n",
            " dropout_9 (Dropout)         (None, 3)                 0         \n",
            "                                                                 \n",
            " dense_129 (Dense)           (None, 5)                 20        \n",
            "                                                                 \n",
            "=================================================================\n",
            "Total params: 164\n",
            "Trainable params: 164\n",
            "Non-trainable params: 0\n",
            "_________________________________________________________________\n"
          ]
        }
      ]
    },
    {
      "cell_type": "markdown",
      "source": [
        "## Train the Model"
      ],
      "metadata": {
        "id": "LXL6ZtwFRZQY"
      }
    },
    {
      "cell_type": "code",
      "source": [
        "model.fit(x=train_features,\n",
        "          y=train_labels,\n",
        "          epochs=20,\n",
        "          validation_data=(test_features, test_labels),\n",
        "          verbose=1,\n",
        "          shuffle=True)"
      ],
      "metadata": {
        "colab": {
          "base_uri": "https://localhost:8080/"
        },
        "id": "GYzjXdb2Oy02",
        "outputId": "d2fcfe38-38b1-4228-9fc9-159b184b2717"
      },
      "execution_count": 89,
      "outputs": [
        {
          "output_type": "stream",
          "name": "stdout",
          "text": [
            "Epoch 1/20\n",
            "3068/3068 [==============================] - 15s 4ms/step - loss: 1.6716 - accuracy: 0.6804 - val_loss: 1.4605 - val_accuracy: 0.6820\n",
            "Epoch 2/20\n",
            "3068/3068 [==============================] - 12s 4ms/step - loss: 1.3113 - accuracy: 0.6804 - val_loss: 1.1851 - val_accuracy: 0.6820\n",
            "Epoch 3/20\n",
            "3068/3068 [==============================] - 12s 4ms/step - loss: 1.1000 - accuracy: 0.6804 - val_loss: 1.0290 - val_accuracy: 0.6820\n",
            "Epoch 4/20\n",
            "3068/3068 [==============================] - 11s 4ms/step - loss: 0.9847 - accuracy: 0.6804 - val_loss: 0.9467 - val_accuracy: 0.6820\n",
            "Epoch 5/20\n",
            "3068/3068 [==============================] - 11s 4ms/step - loss: 0.9246 - accuracy: 0.6804 - val_loss: 0.9036 - val_accuracy: 0.6820\n",
            "Epoch 6/20\n",
            "3068/3068 [==============================] - 12s 4ms/step - loss: 0.8929 - accuracy: 0.6804 - val_loss: 0.8806 - val_accuracy: 0.6820\n",
            "Epoch 7/20\n",
            "3068/3068 [==============================] - 12s 4ms/step - loss: 0.8758 - accuracy: 0.6804 - val_loss: 0.8676 - val_accuracy: 0.6820\n",
            "Epoch 8/20\n",
            "3068/3068 [==============================] - 12s 4ms/step - loss: 0.8657 - accuracy: 0.6804 - val_loss: 0.8596 - val_accuracy: 0.6820\n",
            "Epoch 9/20\n",
            "3068/3068 [==============================] - 12s 4ms/step - loss: 0.8594 - accuracy: 0.6804 - val_loss: 0.8544 - val_accuracy: 0.6820\n",
            "Epoch 10/20\n",
            "3068/3068 [==============================] - 11s 4ms/step - loss: 0.8552 - accuracy: 0.6804 - val_loss: 0.8509 - val_accuracy: 0.6820\n",
            "Epoch 11/20\n",
            "3068/3068 [==============================] - 13s 4ms/step - loss: 0.8523 - accuracy: 0.6804 - val_loss: 0.8484 - val_accuracy: 0.6820\n",
            "Epoch 12/20\n",
            "3068/3068 [==============================] - 12s 4ms/step - loss: 0.8504 - accuracy: 0.6804 - val_loss: 0.8468 - val_accuracy: 0.6820\n",
            "Epoch 13/20\n",
            "3068/3068 [==============================] - 12s 4ms/step - loss: 0.8490 - accuracy: 0.6804 - val_loss: 0.8456 - val_accuracy: 0.6820\n",
            "Epoch 14/20\n",
            "3068/3068 [==============================] - 10s 3ms/step - loss: 0.8481 - accuracy: 0.6804 - val_loss: 0.8448 - val_accuracy: 0.6820\n",
            "Epoch 15/20\n",
            "3068/3068 [==============================] - 11s 4ms/step - loss: 0.8474 - accuracy: 0.6804 - val_loss: 0.8442 - val_accuracy: 0.6820\n",
            "Epoch 16/20\n",
            "3068/3068 [==============================] - 11s 4ms/step - loss: 0.8470 - accuracy: 0.6804 - val_loss: 0.8438 - val_accuracy: 0.6820\n",
            "Epoch 17/20\n",
            "3068/3068 [==============================] - 12s 4ms/step - loss: 0.8466 - accuracy: 0.6804 - val_loss: 0.8435 - val_accuracy: 0.6820\n",
            "Epoch 18/20\n",
            "3068/3068 [==============================] - 12s 4ms/step - loss: 0.8464 - accuracy: 0.6804 - val_loss: 0.8433 - val_accuracy: 0.6820\n",
            "Epoch 19/20\n",
            "3068/3068 [==============================] - 12s 4ms/step - loss: 0.8462 - accuracy: 0.6804 - val_loss: 0.8431 - val_accuracy: 0.6820\n",
            "Epoch 20/20\n",
            "3068/3068 [==============================] - 12s 4ms/step - loss: 0.8461 - accuracy: 0.6804 - val_loss: 0.8430 - val_accuracy: 0.6820\n"
          ]
        },
        {
          "output_type": "execute_result",
          "data": {
            "text/plain": [
              "<keras.callbacks.History at 0x7f760fad1060>"
            ]
          },
          "metadata": {},
          "execution_count": 89
        }
      ]
    },
    {
      "cell_type": "markdown",
      "source": [
        "## Evaluate"
      ],
      "metadata": {
        "id": "HlYSeIglRjAw"
      }
    },
    {
      "cell_type": "code",
      "source": [
        "performance=model.evaluate(test_features,test_labels, batch_size=32, verbose=1, steps=None, )[1] * 100\n",
        "print('Final accuracy : ', round(performance), '%')"
      ],
      "metadata": {
        "colab": {
          "base_uri": "https://localhost:8080/"
        },
        "id": "fD51jOJsRoWr",
        "outputId": "1a8e75fc-071c-40f0-a59e-d450a40b2903"
      },
      "execution_count": 90,
      "outputs": [
        {
          "output_type": "stream",
          "name": "stdout",
          "text": [
            "767/767 [==============================] - 1s 2ms/step - loss: 0.8430 - accuracy: 0.6820\n",
            "Final accuracy :  68 %\n"
          ]
        }
      ]
    }
  ],
  "metadata": {
    "kernelspec": {
      "display_name": "Python 3",
      "language": "python",
      "name": "python3"
    },
    "language_info": {
      "codemirror_mode": {
        "name": "ipython",
        "version": 3
      },
      "file_extension": ".py",
      "mimetype": "text/x-python",
      "name": "python",
      "nbconvert_exporter": "python",
      "pygments_lexer": "ipython3",
      "version": "3.11.3"
    },
    "orig_nbformat": 4,
    "colab": {
      "provenance": []
    }
  },
  "nbformat": 4,
  "nbformat_minor": 0
}